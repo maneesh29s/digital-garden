{
 "cells": [
  {
   "cell_type": "markdown",
   "metadata": {},
   "source": [
    "# Zarr"
   ]
  },
  {
   "cell_type": "markdown",
   "metadata": {},
   "source": [
    "Zarr is a format for the storage of chunked, compressed, N-dimensional arrays inspired by HDF5, h5py and bcolz."
   ]
  },
  {
   "cell_type": "markdown",
   "metadata": {},
   "source": [
    "## Installation"
   ]
  },
  {
   "cell_type": "code",
   "execution_count": 1,
   "metadata": {},
   "outputs": [],
   "source": [
    "# %pip install zarr ipytree numcodecs"
   ]
  },
  {
   "cell_type": "markdown",
   "metadata": {},
   "source": [
    "## High Dimensional Chunked Array in memory"
   ]
  },
  {
   "cell_type": "markdown",
   "metadata": {},
   "source": [
    "Zarr provides classes and functions for working with N-dimensional arrays that behave like NumPy arrays but **whose data is divided into chunks and each chunk is compressed**"
   ]
  },
  {
   "cell_type": "code",
   "execution_count": 2,
   "metadata": {},
   "outputs": [],
   "source": [
    "import zarr\n",
    "import numpy as np"
   ]
  },
  {
   "cell_type": "code",
   "execution_count": 3,
   "metadata": {},
   "outputs": [],
   "source": [
    "# creates a 2-dimensional array of 64-bit floats, divided into chunks\n",
    "# total array size of 2^22 * 2^22, each chunk is of dim 2^11 * 2^11\n",
    "# only required chunks are loaded into memory when needed\n",
    "z = zarr.zeros((1<<22, 1<<22), chunks=(2<<11, 2<<11), dtype='f8') \n",
    "\n",
    "# ERROR: numpy can not allocate 128 TiB (22 + 22 + 3 (double dtype))\n",
    "# t = np.zeros((1<<22, 1<<22))"
   ]
  },
  {
   "cell_type": "markdown",
   "metadata": {},
   "source": [
    "Reading and writing APIs (using slicing brackets) are similar to numpy. \n",
    "Zarr arrays support typical numpy array operations like reshape"
   ]
  },
  {
   "cell_type": "code",
   "execution_count": 4,
   "metadata": {},
   "outputs": [],
   "source": [
    "# Not really needed, just as a precaution\n",
    "del z"
   ]
  },
  {
   "cell_type": "markdown",
   "metadata": {},
   "source": [
    "### Chunk optimisation\n",
    "\n",
    "In general, **chunks of at least 1 megabyte (1M) uncompressed size** seem to provide better performance, at least when using the Blosc compression library.\n",
    "\n",
    "In `chunks` arugment, pass `None` in the dimension you don't wish to partition. e.g. `shape=(20000,20000)chunks=(1000, None)` will create 20 chunks of size `1000 x 20000` each\n",
    "\n",
    "You can let Zarr guess a chunk shape for your data by providing `chunks=True`, which guesses chunk shape using simple heuristics "
   ]
  },
  {
   "cell_type": "markdown",
   "metadata": {},
   "source": [
    "### Copying large arrays\n",
    "\n",
    "Data can be copied between large arrays without needing much memory.\n",
    "\n",
    "Copying works chunk-by-chunk, extracting only the data from z1 required to fill each chunk in z2. \n",
    "\n",
    "The source of the data (z1) could equally be an h5py Dataset."
   ]
  },
  {
   "cell_type": "markdown",
   "metadata": {},
   "source": [
    "### Parallel Computation Support\n",
    "\n",
    "**By default**, Zarr arrays have been designed for use as the **source** _OR_ **sink** for data in parallel computations (Mutli-threaded and Multi-process).\n",
    "Concurrent read and write (both) is not supported.\n",
    "\n",
    "During writing (sink), if each worker in a parallel computation is **writing to a separate region of the array**, and if region boundaries are **perfectly aligned with chunk boundaries**, then **no synchronization is required**. \n",
    "\n",
    "**Otherwise**, synchronization is required. The `synchronizer` can be passed to the array creation functions `open()`, `create()`, `zeros()` and others\n",
    "\n",
    "Currently available synchronizers:\n",
    "\n",
    "- Thread synchronizer `synchronizer=zarr.ThreadSynchronizer()`\n",
    "\n",
    "- Process synchronizer `synchronizer=zarr.ProcessSynchronizer()`"
   ]
  },
  {
   "cell_type": "markdown",
   "metadata": {},
   "source": [
    "### Compressor and Filters\n",
    "\n",
    "Zarr divides the array into chunks.  \n",
    "\n",
    "It also **compresses the data** before storing. For efficient compression, some **transformations are applied** on the raw data using **Filters**.\n",
    "\n",
    "We can override default Compressor and Filter by passing it as arguments to the constructor while creating a Zarr array.\n",
    "\n",
    "Zarr uses [NumCodecs](https://numcodecs.readthedocs.io/en/stable/) library which contains multiple compressors and filters.\n",
    "\n",
    "**About Numcodec:**\n",
    "\n",
    "Numcodecs is a Python package providing buffer compression and transformation codecs for use in data storage and communication applications. \n",
    "\n",
    "Zarr uses numcodecs in Compression, Filter operations and to give object_codec.\n",
    "\n",
    "See [numcodecs](https://numcodecs.readthedocs.io/en/stable/index.html) documentation for more information\n",
    "\n"
   ]
  },
  {
   "cell_type": "markdown",
   "metadata": {},
   "source": [
    "### Configuring Blosc\n",
    "\n",
    "See [Zarr Doc](https://zarr.readthedocs.io/en/stable/tutorial.html#configuring-blosc)\n",
    "\n",
    "The [Blosc](https://numcodecs.readthedocs.io/en/stable/blosc.html) is the default compressor.\n",
    "\n",
    "The number of Blosc threads can be changed using:\n",
    "\n",
    "```py\n",
    "from numcodecs import blosc\n",
    "blosc.set_nthreads(2)  \n",
    "```\n",
    "\n",
    "For multi-process program, it is recommended to set `blosc.use_threads = False`"
   ]
  },
  {
   "cell_type": "markdown",
   "metadata": {},
   "source": [
    "## Persistent Array on Disk"
   ]
  },
  {
   "cell_type": "markdown",
   "metadata": {},
   "source": [
    " Zarr arrays can also be stored on a file system, enabling persistence of data between sessions.\n",
    " \n",
    " These arrays also support compressions, filters, chunks, parallel computing etc. as discussed previously."
   ]
  },
  {
   "cell_type": "code",
   "execution_count": 5,
   "metadata": {},
   "outputs": [],
   "source": [
    "# data/example.zarr will be a directory\n",
    "# initially it will only contains `.zarray` containing the metadata\n",
    "\n",
    "z1 = zarr.open('data/example.zarr', mode='w', shape=(10000, 10000),\n",
    "               chunks=(1000, 1000), dtype='i4')"
   ]
  },
  {
   "cell_type": "code",
   "execution_count": 6,
   "metadata": {},
   "outputs": [],
   "source": [
    "# filling all elements with a value\n",
    "# this will generate 100 files, each corresponding to one chunk\n",
    "z1[:] = 37"
   ]
  },
  {
   "cell_type": "code",
   "execution_count": 7,
   "metadata": {},
   "outputs": [],
   "source": [
    "z2 = zarr.open('data/example.zarr', mode='r')"
   ]
  },
  {
   "cell_type": "code",
   "execution_count": 8,
   "metadata": {},
   "outputs": [
    {
     "data": {
      "text/plain": [
       "True"
      ]
     },
     "execution_count": 8,
     "metadata": {},
     "output_type": "execute_result"
    }
   ],
   "source": [
    "np.all(z2[:] == 37)"
   ]
  },
  {
   "cell_type": "markdown",
   "metadata": {},
   "source": [
    "### Process Synchronization using file locks"
   ]
  },
  {
   "cell_type": "markdown",
   "metadata": {},
   "source": [
    "Provides synchronization using file locks via the fasteners package."
   ]
  },
  {
   "cell_type": "code",
   "execution_count": 9,
   "metadata": {},
   "outputs": [],
   "source": [
    "# creates lock files in process_sync.sync directory, 1 lock file per chunk\n",
    "synchronizer = zarr.ProcessSynchronizer('data/process_sync.sync')\n",
    "\n",
    "# process_sync.zarr will contain the actual data\n",
    "z = zarr.open('data/process_sync.zarr', mode='w', shape=(10000, 10000),\n",
    "                    chunks=(1000, 1000), dtype='i4',\n",
    "                    synchronizer=synchronizer)\n",
    "\n",
    "# writing data\n",
    "z[:] = 37"
   ]
  },
  {
   "cell_type": "markdown",
   "metadata": {},
   "source": [
    "### Quickly Saving Numpy arrays with Zarr"
   ]
  },
  {
   "cell_type": "markdown",
   "metadata": {},
   "source": [
    "Use the functions zarr.save() and zarr.load() "
   ]
  },
  {
   "cell_type": "code",
   "execution_count": 10,
   "metadata": {},
   "outputs": [],
   "source": [
    "a = np.arange(10)\n",
    "\n",
    "# by default will store it in a single chunk\n",
    "zarr.save('data/numpy.zarr', a)"
   ]
  },
  {
   "cell_type": "code",
   "execution_count": 11,
   "metadata": {},
   "outputs": [
    {
     "data": {
      "text/plain": [
       "array([0, 1, 2, 3, 4, 5, 6, 7, 8, 9])"
      ]
     },
     "execution_count": 11,
     "metadata": {},
     "output_type": "execute_result"
    }
   ],
   "source": [
    "zarr.load('data/numpy.zarr')"
   ]
  },
  {
   "cell_type": "markdown",
   "metadata": {},
   "source": [
    "### Storage Alternatives"
   ]
  },
  {
   "cell_type": "markdown",
   "metadata": {},
   "source": [
    "More on this: https://zarr.readthedocs.io/en/stable/tutorial.html#storage-alternatives\n",
    "\n",
    "We can store zar arrays in various formats:\n",
    "1. DirectoryStore (default, native)\n",
    "2. ZipStore\n",
    "3. DBMStore \n",
    "4. LMDBStore (lightning memory-mapped DB)\n",
    "5. SQLiteStore\n",
    "6. ReddisStore\n",
    "7. N5Store\n",
    "\n",
    "Zarr also supports **Distributed/Cloud Storage options**:\n",
    "1. AWS S3\n",
    "2. HDFS (hadoop distributed)\n",
    "3. Google Cloud"
   ]
  },
  {
   "cell_type": "markdown",
   "metadata": {},
   "source": [
    "## Non-numeic dtypes\n",
    "\n",
    "Zarr supports many non-numeric dtypes also supported by numpy\n",
    "See [numpy doc](https://numpy.org/doc/stable/reference/arrays.dtypes.html)"
   ]
  },
  {
   "cell_type": "markdown",
   "metadata": {},
   "source": [
    "### Fixed length string\n",
    "\n",
    "`dtype=Un` where `n` is the length of each string, `U` means Unicode"
   ]
  },
  {
   "cell_type": "code",
   "execution_count": 12,
   "metadata": {},
   "outputs": [
    {
     "data": {
      "text/plain": [
       "array(['Hello', 'world!', '', '', '', '', '', '', '', ''], dtype='<U6')"
      ]
     },
     "execution_count": 12,
     "metadata": {},
     "output_type": "execute_result"
    }
   ],
   "source": [
    "z = zarr.zeros(10, dtype='U6') # each element is Unicode string with length 6\n",
    "z[0] = b'Hello'\n",
    "z[1] = b'world!!!' # extra chars will be truncated\n",
    "z[:]"
   ]
  },
  {
   "cell_type": "markdown",
   "metadata": {},
   "source": [
    "### Variable length string\n",
    "\n",
    "`dtype=str` which is a short hand for unicode string"
   ]
  },
  {
   "cell_type": "code",
   "execution_count": 13,
   "metadata": {},
   "outputs": [
    {
     "data": {
      "text/plain": [
       "array(['Hello World!!', 'I am Maneesh.', 'Nice to see you!'], dtype=object)"
      ]
     },
     "execution_count": 13,
     "metadata": {},
     "output_type": "execute_result"
    }
   ],
   "source": [
    "import numcodecs \n",
    "text_data = [\"Hello World!!\" , \"I am Maneesh.\", \"Nice to see you!\"]\n",
    "\n",
    "z = zarr.array(text_data, dtype=str)\n",
    "z[:]"
   ]
  },
  {
   "cell_type": "markdown",
   "metadata": {},
   "source": [
    "### Object Arrays"
   ]
  },
  {
   "cell_type": "markdown",
   "metadata": {},
   "source": [
    "`dtype=object, object_codec=<>` where object_codec can be\n",
    "\n",
    "1. numcodecs.json.JSON\n",
    "1. numcodecs.msgpacks.MsgPack.\n",
    "1. numcodecs.pickles.Pickle."
   ]
  },
  {
   "cell_type": "code",
   "execution_count": 14,
   "metadata": {},
   "outputs": [
    {
     "data": {
      "text/plain": [
       "array([42, 'foo', list(['bar', 'baz', 'qux']), {'a': 1, 'b': 2.2}, None],\n",
       "      dtype=object)"
      ]
     },
     "execution_count": 14,
     "metadata": {},
     "output_type": "execute_result"
    }
   ],
   "source": [
    "z = zarr.empty(5, dtype=object, object_codec=numcodecs.JSON())\n",
    "z[0] = 42\n",
    "z[1] = 'foo'\n",
    "z[2] = ['bar', 'baz', 'qux']\n",
    "z[3] = {'a': 1, 'b': 2.2}\n",
    "z[:]"
   ]
  },
  {
   "cell_type": "markdown",
   "metadata": {},
   "source": [
    "### Datetime\n",
    "\n",
    "Please refer to [numpy doc](https://numpy.org/doc/stable/reference/arrays.datetime.html#datetimes-and-timedeltas) and [zarr doc](https://zarr.readthedocs.io/en/stable/tutorial.html#datetimes-and-timedeltas)\n",
    "\n",
    "Datetime64 : `dtype=M8[unit]`\n",
    "\n",
    "timedelta64 : `dtype=m8[unit]`\n",
    "\n",
    "where `unit` can be `ms`, `s`, `m`, `h`, `D`, `W`, `M`, `Y`"
   ]
  },
  {
   "cell_type": "markdown",
   "metadata": {},
   "source": [
    "## Some (may be) useful Features"
   ]
  },
  {
   "cell_type": "markdown",
   "metadata": {},
   "source": [
    "### Hierarchical organisation of arrays with Groups\n",
    "\n",
    "See the [zarr doc](https://zarr.readthedocs.io/en/stable/tutorial.html#groups)"
   ]
  },
  {
   "cell_type": "code",
   "execution_count": 15,
   "metadata": {},
   "outputs": [],
   "source": [
    "# root of hirerarchy\n",
    "\n",
    "root = zarr.group() # in memory\n",
    "# or\n",
    "root = zarr.open(\"data/group.zarr\", mode=\"w\") # on disk (creates or opens existing)\n",
    "\n",
    "# groups\n",
    "foo = root.create_group('foo')\n",
    "# bar inside foo\n",
    "bar = foo.create_group('bar')"
   ]
  },
  {
   "cell_type": "code",
   "execution_count": 16,
   "metadata": {},
   "outputs": [],
   "source": [
    "z1 = bar.zeros('baz', shape=(10000, 10000), chunks=(1000, 1000), dtype='i4')"
   ]
  },
  {
   "cell_type": "code",
   "execution_count": 17,
   "metadata": {},
   "outputs": [
    {
     "data": {
      "text/html": [
       "<table class=\"zarr-info\"><tbody><tr><th style=\"text-align: left\">Name</th><td style=\"text-align: left\">/foo/bar/baz</td></tr><tr><th style=\"text-align: left\">Type</th><td style=\"text-align: left\">zarr.core.Array</td></tr><tr><th style=\"text-align: left\">Data type</th><td style=\"text-align: left\">int32</td></tr><tr><th style=\"text-align: left\">Shape</th><td style=\"text-align: left\">(10000, 10000)</td></tr><tr><th style=\"text-align: left\">Chunk shape</th><td style=\"text-align: left\">(1000, 1000)</td></tr><tr><th style=\"text-align: left\">Order</th><td style=\"text-align: left\">C</td></tr><tr><th style=\"text-align: left\">Read-only</th><td style=\"text-align: left\">False</td></tr><tr><th style=\"text-align: left\">Compressor</th><td style=\"text-align: left\">Blosc(cname='lz4', clevel=5, shuffle=SHUFFLE, blocksize=0)</td></tr><tr><th style=\"text-align: left\">Store type</th><td style=\"text-align: left\">zarr.storage.DirectoryStore</td></tr><tr><th style=\"text-align: left\">No. bytes</th><td style=\"text-align: left\">400000000 (381.5M)</td></tr><tr><th style=\"text-align: left\">No. bytes stored</th><td style=\"text-align: left\">345</td></tr><tr><th style=\"text-align: left\">Storage ratio</th><td style=\"text-align: left\">1159420.3</td></tr><tr><th style=\"text-align: left\">Chunks initialized</th><td style=\"text-align: left\">0/100</td></tr></tbody></table>"
      ],
      "text/plain": [
       "Name               : /foo/bar/baz\n",
       "Type               : zarr.core.Array\n",
       "Data type          : int32\n",
       "Shape              : (10000, 10000)\n",
       "Chunk shape        : (1000, 1000)\n",
       "Order              : C\n",
       "Read-only          : False\n",
       "Compressor         : Blosc(cname='lz4', clevel=5, shuffle=SHUFFLE, blocksize=0)\n",
       "Store type         : zarr.storage.DirectoryStore\n",
       "No. bytes          : 400000000 (381.5M)\n",
       "No. bytes stored   : 345\n",
       "Storage ratio      : 1159420.3\n",
       "Chunks initialized : 0/100"
      ]
     },
     "execution_count": 17,
     "metadata": {},
     "output_type": "execute_result"
    }
   ],
   "source": [
    "# to get more info\n",
    "z1.info # works on root, foo, z1"
   ]
  },
  {
   "cell_type": "code",
   "execution_count": 18,
   "metadata": {},
   "outputs": [
    {
     "data": {
      "application/vnd.jupyter.widget-view+json": {
       "model_id": "61c8721a91b54c5bbc08b90e5c02623f",
       "version_major": 2,
       "version_minor": 0
      },
      "text/plain": [
       "Tree(nodes=(Node(disabled=True, name='/', nodes=(Node(disabled=True, name='foo', nodes=(Node(disabled=True, na…"
      ]
     },
     "execution_count": 18,
     "metadata": {},
     "output_type": "execute_result"
    }
   ],
   "source": [
    "# to get tree view \n",
    "# if you have ipytree it will give interactive output\n",
    "root.tree()"
   ]
  },
  {
   "cell_type": "markdown",
   "metadata": {},
   "source": [
    "### User Attributes\n",
    "\n",
    "Useful to add custom key-value attributes.\n",
    "\n",
    "Stored in a seperate `.zattrs` file"
   ]
  },
  {
   "cell_type": "code",
   "execution_count": 19,
   "metadata": {},
   "outputs": [],
   "source": [
    "z1 = zarr.open(\"data/attributes.zarr\" ,shape=(10000, 10000), chunks=(1000, 1000), dtype='i4')"
   ]
  },
  {
   "cell_type": "code",
   "execution_count": 20,
   "metadata": {},
   "outputs": [],
   "source": [
    "z1.attrs[\"author\"] = \"maneesh\""
   ]
  },
  {
   "cell_type": "markdown",
   "metadata": {},
   "source": [
    "### Advanced Indexing of zarr arrays"
   ]
  },
  {
   "cell_type": "markdown",
   "metadata": {},
   "source": [
    "Many options are available for indexing, e.g.\n",
    "\n",
    "**with coordinate arrays**\n",
    "\n",
    "set_coordinate_selection()\n",
    "\n",
    "get_coordinate_selection()\n",
    "\n",
    "**with masked arrays**\n",
    "\n",
    "get_mask_selection()\n",
    "\n",
    "set_mask_selection()"
   ]
  }
 ],
 "metadata": {
  "kernelspec": {
   "display_name": "skao",
   "language": "python",
   "name": "python3"
  },
  "language_info": {
   "codemirror_mode": {
    "name": "ipython",
    "version": 3
   },
   "file_extension": ".py",
   "mimetype": "text/x-python",
   "name": "python",
   "nbconvert_exporter": "python",
   "pygments_lexer": "ipython3",
   "version": "3.10.13"
  }
 },
 "nbformat": 4,
 "nbformat_minor": 2
}
